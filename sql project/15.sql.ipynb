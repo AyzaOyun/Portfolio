{
 "cells": [
  {
   "cell_type": "markdown",
   "metadata": {},
   "source": [
    "# Проект по SQL \"Анализ базы данных сервиса для чтения книг по подписке\""
   ]
  },
  {
   "cell_type": "markdown",
   "metadata": {},
   "source": [
    "Проведен анализ базы данных сервиса для чтения книг по подписке. Посчитано количество книг, вышедших после 1 января 2000 года. Для каждой книги определены количество обзоров и средняя оценка. Определено издательство, которое выпустило наибольшее число книг толще 50 страниц — исключены из анализа брошюры. Определен автора с самой высокой средней оценкой книг — среди книг с 50 и более оценками. Посчитано среднее количество обзоров от пользователей, которые поставили больше 48 оценок.\n",
    "\n",
    "#### Цель \n",
    "проанализировать базу данных о книгах, издательствах, авторах, а также пользовательские обзоры книг для формулирования ценностного предложения для нового продукта.  \n",
    "\n",
    "#### Задания\n",
    "<a href=\"#раздел1\">Посчитать сколько книг вышло после 1 января 2000 года;</a>  \n",
    "<a href=\"#раздел2\">Для каждой книги посчитать количество обзоров и среднюю оценку;</a>  \n",
    "<a href=\"#раздел3\">Определить издательство, которое выпустило наибольшее число книг толще 50 страниц (для исключения из анализа брошюр);</a>  \n",
    "<a href=\"#раздел4\">Определить автора с самой высокой средней оценкой книг — учитывать только книги с 50 и более оценками;</a>  \n",
    "<a href=\"#раздел5\">Посчитать среднее количество обзоров от пользователей, которые поставили больше 48 оценок.</a>  \n",
    "\n",
    "#### План выполнения задания\n",
    "Описать цели исследования;  \n",
    "Исследовать таблицы — выведите первые строки;  \n",
    "Сделать по одному SQL-запросу для решения каждого задания;  \n",
    "Вывести результаты каждого запроса в тетрадке;  \n",
    "Описать выводы по каждой из решённых задач.  "
   ]
  },
  {
   "cell_type": "code",
   "execution_count": 1,
   "metadata": {},
   "outputs": [
    {
     "data": {
      "text/html": [
       "<div>\n",
       "<style scoped>\n",
       "    .dataframe tbody tr th:only-of-type {\n",
       "        vertical-align: middle;\n",
       "    }\n",
       "\n",
       "    .dataframe tbody tr th {\n",
       "        vertical-align: top;\n",
       "    }\n",
       "\n",
       "    .dataframe thead th {\n",
       "        text-align: right;\n",
       "    }\n",
       "</style>\n",
       "<table border=\"1\" class=\"dataframe\">\n",
       "  <thead>\n",
       "    <tr style=\"text-align: right;\">\n",
       "      <th></th>\n",
       "      <th>book_id</th>\n",
       "      <th>author_id</th>\n",
       "      <th>title</th>\n",
       "      <th>num_pages</th>\n",
       "      <th>publication_date</th>\n",
       "      <th>publisher_id</th>\n",
       "    </tr>\n",
       "  </thead>\n",
       "  <tbody>\n",
       "    <tr>\n",
       "      <th>0</th>\n",
       "      <td>1</td>\n",
       "      <td>546</td>\n",
       "      <td>'Salem's Lot</td>\n",
       "      <td>594</td>\n",
       "      <td>2005-11-01</td>\n",
       "      <td>93</td>\n",
       "    </tr>\n",
       "    <tr>\n",
       "      <th>1</th>\n",
       "      <td>2</td>\n",
       "      <td>465</td>\n",
       "      <td>1 000 Places to See Before You Die</td>\n",
       "      <td>992</td>\n",
       "      <td>2003-05-22</td>\n",
       "      <td>336</td>\n",
       "    </tr>\n",
       "    <tr>\n",
       "      <th>2</th>\n",
       "      <td>3</td>\n",
       "      <td>407</td>\n",
       "      <td>13 Little Blue Envelopes (Little Blue Envelope...</td>\n",
       "      <td>322</td>\n",
       "      <td>2010-12-21</td>\n",
       "      <td>135</td>\n",
       "    </tr>\n",
       "    <tr>\n",
       "      <th>3</th>\n",
       "      <td>4</td>\n",
       "      <td>82</td>\n",
       "      <td>1491: New Revelations of the Americas Before C...</td>\n",
       "      <td>541</td>\n",
       "      <td>2006-10-10</td>\n",
       "      <td>309</td>\n",
       "    </tr>\n",
       "    <tr>\n",
       "      <th>4</th>\n",
       "      <td>5</td>\n",
       "      <td>125</td>\n",
       "      <td>1776</td>\n",
       "      <td>386</td>\n",
       "      <td>2006-07-04</td>\n",
       "      <td>268</td>\n",
       "    </tr>\n",
       "  </tbody>\n",
       "</table>\n",
       "</div>"
      ],
      "text/plain": [
       "   book_id  author_id                                              title  \\\n",
       "0        1        546                                       'Salem's Lot   \n",
       "1        2        465                 1 000 Places to See Before You Die   \n",
       "2        3        407  13 Little Blue Envelopes (Little Blue Envelope...   \n",
       "3        4         82  1491: New Revelations of the Americas Before C...   \n",
       "4        5        125                                               1776   \n",
       "\n",
       "   num_pages publication_date  publisher_id  \n",
       "0        594       2005-11-01            93  \n",
       "1        992       2003-05-22           336  \n",
       "2        322       2010-12-21           135  \n",
       "3        541       2006-10-10           309  \n",
       "4        386       2006-07-04           268  "
      ]
     },
     "execution_count": 1,
     "metadata": {},
     "output_type": "execute_result"
    }
   ],
   "source": [
    "# импортируем библиотеки\n",
    "import pandas as pd\n",
    "from sqlalchemy import text, create_engine\n",
    "# устанавливаем параметры\n",
    "db_config = {'user': 'praktikum_student', # имя пользователя\n",
    "'pwd': 'Sdf4$2;d-d30pp', # пароль\n",
    "'host': 'rc1b-wcoijxj3yxfsf3fs.mdb.yandexcloud.net',\n",
    "'port': 6432, # порт подключения\n",
    "'db': 'data-analyst-final-project-db'} # название базы данных\n",
    "connection_string = 'postgresql://{user}:{pwd}@{host}:{port}/{db}'.format(**db_config)\n",
    "# сохраняем коннектор\n",
    "engine = create_engine(connection_string, connect_args={'sslmode':'require'})\n",
    "# чтобы выполнить SQL-запрос, используем Pandas\n",
    "query = '''SELECT * FROM books LIMIT 5'''\n",
    "con=engine.connect()\n",
    "pd.io.sql.read_sql(sql=text(query), con = con)"
   ]
  },
  {
   "cell_type": "markdown",
   "metadata": {},
   "source": [
    "# Исследовать таблицы — выведите первые строки"
   ]
  },
  {
   "cell_type": "code",
   "execution_count": 2,
   "metadata": {},
   "outputs": [
    {
     "data": {
      "text/html": [
       "<div>\n",
       "<style scoped>\n",
       "    .dataframe tbody tr th:only-of-type {\n",
       "        vertical-align: middle;\n",
       "    }\n",
       "\n",
       "    .dataframe tbody tr th {\n",
       "        vertical-align: top;\n",
       "    }\n",
       "\n",
       "    .dataframe thead th {\n",
       "        text-align: right;\n",
       "    }\n",
       "</style>\n",
       "<table border=\"1\" class=\"dataframe\">\n",
       "  <thead>\n",
       "    <tr style=\"text-align: right;\">\n",
       "      <th></th>\n",
       "      <th>book_id</th>\n",
       "      <th>author_id</th>\n",
       "      <th>title</th>\n",
       "      <th>num_pages</th>\n",
       "      <th>publication_date</th>\n",
       "      <th>publisher_id</th>\n",
       "    </tr>\n",
       "  </thead>\n",
       "  <tbody>\n",
       "    <tr>\n",
       "      <th>0</th>\n",
       "      <td>1</td>\n",
       "      <td>546</td>\n",
       "      <td>'Salem's Lot</td>\n",
       "      <td>594</td>\n",
       "      <td>2005-11-01</td>\n",
       "      <td>93</td>\n",
       "    </tr>\n",
       "    <tr>\n",
       "      <th>1</th>\n",
       "      <td>2</td>\n",
       "      <td>465</td>\n",
       "      <td>1 000 Places to See Before You Die</td>\n",
       "      <td>992</td>\n",
       "      <td>2003-05-22</td>\n",
       "      <td>336</td>\n",
       "    </tr>\n",
       "    <tr>\n",
       "      <th>2</th>\n",
       "      <td>3</td>\n",
       "      <td>407</td>\n",
       "      <td>13 Little Blue Envelopes (Little Blue Envelope...</td>\n",
       "      <td>322</td>\n",
       "      <td>2010-12-21</td>\n",
       "      <td>135</td>\n",
       "    </tr>\n",
       "    <tr>\n",
       "      <th>3</th>\n",
       "      <td>4</td>\n",
       "      <td>82</td>\n",
       "      <td>1491: New Revelations of the Americas Before C...</td>\n",
       "      <td>541</td>\n",
       "      <td>2006-10-10</td>\n",
       "      <td>309</td>\n",
       "    </tr>\n",
       "    <tr>\n",
       "      <th>4</th>\n",
       "      <td>5</td>\n",
       "      <td>125</td>\n",
       "      <td>1776</td>\n",
       "      <td>386</td>\n",
       "      <td>2006-07-04</td>\n",
       "      <td>268</td>\n",
       "    </tr>\n",
       "  </tbody>\n",
       "</table>\n",
       "</div>"
      ],
      "text/plain": [
       "   book_id  author_id                                              title  \\\n",
       "0        1        546                                       'Salem's Lot   \n",
       "1        2        465                 1 000 Places to See Before You Die   \n",
       "2        3        407  13 Little Blue Envelopes (Little Blue Envelope...   \n",
       "3        4         82  1491: New Revelations of the Americas Before C...   \n",
       "4        5        125                                               1776   \n",
       "\n",
       "   num_pages publication_date  publisher_id  \n",
       "0        594       2005-11-01            93  \n",
       "1        992       2003-05-22           336  \n",
       "2        322       2010-12-21           135  \n",
       "3        541       2006-10-10           309  \n",
       "4        386       2006-07-04           268  "
      ]
     },
     "execution_count": 2,
     "metadata": {},
     "output_type": "execute_result"
    }
   ],
   "source": [
    "query = '''SELECT * FROM books LIMIT 5'''\n",
    "con=engine.connect()\n",
    "pd.io.sql.read_sql(sql=text(query), con = con)"
   ]
  },
  {
   "cell_type": "code",
   "execution_count": 3,
   "metadata": {},
   "outputs": [
    {
     "data": {
      "text/html": [
       "<div>\n",
       "<style scoped>\n",
       "    .dataframe tbody tr th:only-of-type {\n",
       "        vertical-align: middle;\n",
       "    }\n",
       "\n",
       "    .dataframe tbody tr th {\n",
       "        vertical-align: top;\n",
       "    }\n",
       "\n",
       "    .dataframe thead th {\n",
       "        text-align: right;\n",
       "    }\n",
       "</style>\n",
       "<table border=\"1\" class=\"dataframe\">\n",
       "  <thead>\n",
       "    <tr style=\"text-align: right;\">\n",
       "      <th></th>\n",
       "      <th>review_id</th>\n",
       "      <th>book_id</th>\n",
       "      <th>username</th>\n",
       "      <th>text</th>\n",
       "    </tr>\n",
       "  </thead>\n",
       "  <tbody>\n",
       "    <tr>\n",
       "      <th>0</th>\n",
       "      <td>1</td>\n",
       "      <td>1</td>\n",
       "      <td>brandtandrea</td>\n",
       "      <td>Mention society tell send professor analysis. ...</td>\n",
       "    </tr>\n",
       "    <tr>\n",
       "      <th>1</th>\n",
       "      <td>2</td>\n",
       "      <td>1</td>\n",
       "      <td>ryanfranco</td>\n",
       "      <td>Foot glass pretty audience hit themselves. Amo...</td>\n",
       "    </tr>\n",
       "    <tr>\n",
       "      <th>2</th>\n",
       "      <td>3</td>\n",
       "      <td>2</td>\n",
       "      <td>lorichen</td>\n",
       "      <td>Listen treat keep worry. Miss husband tax but ...</td>\n",
       "    </tr>\n",
       "    <tr>\n",
       "      <th>3</th>\n",
       "      <td>4</td>\n",
       "      <td>3</td>\n",
       "      <td>johnsonamanda</td>\n",
       "      <td>Finally month interesting blue could nature cu...</td>\n",
       "    </tr>\n",
       "    <tr>\n",
       "      <th>4</th>\n",
       "      <td>5</td>\n",
       "      <td>3</td>\n",
       "      <td>scotttamara</td>\n",
       "      <td>Nation purpose heavy give wait song will. List...</td>\n",
       "    </tr>\n",
       "  </tbody>\n",
       "</table>\n",
       "</div>"
      ],
      "text/plain": [
       "   review_id  book_id       username  \\\n",
       "0          1        1   brandtandrea   \n",
       "1          2        1     ryanfranco   \n",
       "2          3        2       lorichen   \n",
       "3          4        3  johnsonamanda   \n",
       "4          5        3    scotttamara   \n",
       "\n",
       "                                                text  \n",
       "0  Mention society tell send professor analysis. ...  \n",
       "1  Foot glass pretty audience hit themselves. Amo...  \n",
       "2  Listen treat keep worry. Miss husband tax but ...  \n",
       "3  Finally month interesting blue could nature cu...  \n",
       "4  Nation purpose heavy give wait song will. List...  "
      ]
     },
     "execution_count": 3,
     "metadata": {},
     "output_type": "execute_result"
    }
   ],
   "source": [
    "query = '''SELECT * FROM reviews LIMIT 5'''\n",
    "con=engine.connect()\n",
    "pd.io.sql.read_sql(sql=text(query), con = con)"
   ]
  },
  {
   "cell_type": "code",
   "execution_count": 4,
   "metadata": {},
   "outputs": [
    {
     "data": {
      "text/html": [
       "<div>\n",
       "<style scoped>\n",
       "    .dataframe tbody tr th:only-of-type {\n",
       "        vertical-align: middle;\n",
       "    }\n",
       "\n",
       "    .dataframe tbody tr th {\n",
       "        vertical-align: top;\n",
       "    }\n",
       "\n",
       "    .dataframe thead th {\n",
       "        text-align: right;\n",
       "    }\n",
       "</style>\n",
       "<table border=\"1\" class=\"dataframe\">\n",
       "  <thead>\n",
       "    <tr style=\"text-align: right;\">\n",
       "      <th></th>\n",
       "      <th>rating_id</th>\n",
       "      <th>book_id</th>\n",
       "      <th>username</th>\n",
       "      <th>rating</th>\n",
       "    </tr>\n",
       "  </thead>\n",
       "  <tbody>\n",
       "    <tr>\n",
       "      <th>0</th>\n",
       "      <td>1</td>\n",
       "      <td>1</td>\n",
       "      <td>ryanfranco</td>\n",
       "      <td>4</td>\n",
       "    </tr>\n",
       "    <tr>\n",
       "      <th>1</th>\n",
       "      <td>2</td>\n",
       "      <td>1</td>\n",
       "      <td>grantpatricia</td>\n",
       "      <td>2</td>\n",
       "    </tr>\n",
       "    <tr>\n",
       "      <th>2</th>\n",
       "      <td>3</td>\n",
       "      <td>1</td>\n",
       "      <td>brandtandrea</td>\n",
       "      <td>5</td>\n",
       "    </tr>\n",
       "    <tr>\n",
       "      <th>3</th>\n",
       "      <td>4</td>\n",
       "      <td>2</td>\n",
       "      <td>lorichen</td>\n",
       "      <td>3</td>\n",
       "    </tr>\n",
       "    <tr>\n",
       "      <th>4</th>\n",
       "      <td>5</td>\n",
       "      <td>2</td>\n",
       "      <td>mariokeller</td>\n",
       "      <td>2</td>\n",
       "    </tr>\n",
       "  </tbody>\n",
       "</table>\n",
       "</div>"
      ],
      "text/plain": [
       "   rating_id  book_id       username  rating\n",
       "0          1        1     ryanfranco       4\n",
       "1          2        1  grantpatricia       2\n",
       "2          3        1   brandtandrea       5\n",
       "3          4        2       lorichen       3\n",
       "4          5        2    mariokeller       2"
      ]
     },
     "execution_count": 4,
     "metadata": {},
     "output_type": "execute_result"
    }
   ],
   "source": [
    "query = '''SELECT * FROM ratings LIMIT 5'''\n",
    "con=engine.connect()\n",
    "pd.io.sql.read_sql(sql=text(query), con = con)"
   ]
  },
  {
   "cell_type": "code",
   "execution_count": 5,
   "metadata": {},
   "outputs": [
    {
     "data": {
      "text/html": [
       "<div>\n",
       "<style scoped>\n",
       "    .dataframe tbody tr th:only-of-type {\n",
       "        vertical-align: middle;\n",
       "    }\n",
       "\n",
       "    .dataframe tbody tr th {\n",
       "        vertical-align: top;\n",
       "    }\n",
       "\n",
       "    .dataframe thead th {\n",
       "        text-align: right;\n",
       "    }\n",
       "</style>\n",
       "<table border=\"1\" class=\"dataframe\">\n",
       "  <thead>\n",
       "    <tr style=\"text-align: right;\">\n",
       "      <th></th>\n",
       "      <th>publisher_id</th>\n",
       "      <th>publisher</th>\n",
       "    </tr>\n",
       "  </thead>\n",
       "  <tbody>\n",
       "    <tr>\n",
       "      <th>0</th>\n",
       "      <td>1</td>\n",
       "      <td>Ace</td>\n",
       "    </tr>\n",
       "    <tr>\n",
       "      <th>1</th>\n",
       "      <td>2</td>\n",
       "      <td>Ace Book</td>\n",
       "    </tr>\n",
       "    <tr>\n",
       "      <th>2</th>\n",
       "      <td>3</td>\n",
       "      <td>Ace Books</td>\n",
       "    </tr>\n",
       "    <tr>\n",
       "      <th>3</th>\n",
       "      <td>4</td>\n",
       "      <td>Ace Hardcover</td>\n",
       "    </tr>\n",
       "    <tr>\n",
       "      <th>4</th>\n",
       "      <td>5</td>\n",
       "      <td>Addison Wesley Publishing Company</td>\n",
       "    </tr>\n",
       "  </tbody>\n",
       "</table>\n",
       "</div>"
      ],
      "text/plain": [
       "   publisher_id                          publisher\n",
       "0             1                                Ace\n",
       "1             2                           Ace Book\n",
       "2             3                          Ace Books\n",
       "3             4                      Ace Hardcover\n",
       "4             5  Addison Wesley Publishing Company"
      ]
     },
     "execution_count": 5,
     "metadata": {},
     "output_type": "execute_result"
    }
   ],
   "source": [
    "query = '''SELECT * FROM publishers LIMIT 5'''\n",
    "con=engine.connect()\n",
    "pd.io.sql.read_sql(sql=text(query), con = con)"
   ]
  },
  {
   "cell_type": "code",
   "execution_count": 6,
   "metadata": {},
   "outputs": [
    {
     "data": {
      "text/html": [
       "<div>\n",
       "<style scoped>\n",
       "    .dataframe tbody tr th:only-of-type {\n",
       "        vertical-align: middle;\n",
       "    }\n",
       "\n",
       "    .dataframe tbody tr th {\n",
       "        vertical-align: top;\n",
       "    }\n",
       "\n",
       "    .dataframe thead th {\n",
       "        text-align: right;\n",
       "    }\n",
       "</style>\n",
       "<table border=\"1\" class=\"dataframe\">\n",
       "  <thead>\n",
       "    <tr style=\"text-align: right;\">\n",
       "      <th></th>\n",
       "      <th>author_id</th>\n",
       "      <th>author</th>\n",
       "    </tr>\n",
       "  </thead>\n",
       "  <tbody>\n",
       "    <tr>\n",
       "      <th>0</th>\n",
       "      <td>1</td>\n",
       "      <td>A.S. Byatt</td>\n",
       "    </tr>\n",
       "    <tr>\n",
       "      <th>1</th>\n",
       "      <td>2</td>\n",
       "      <td>Aesop/Laura Harris/Laura Gibbs</td>\n",
       "    </tr>\n",
       "    <tr>\n",
       "      <th>2</th>\n",
       "      <td>3</td>\n",
       "      <td>Agatha Christie</td>\n",
       "    </tr>\n",
       "    <tr>\n",
       "      <th>3</th>\n",
       "      <td>4</td>\n",
       "      <td>Alan Brennert</td>\n",
       "    </tr>\n",
       "    <tr>\n",
       "      <th>4</th>\n",
       "      <td>5</td>\n",
       "      <td>Alan Moore/David   Lloyd</td>\n",
       "    </tr>\n",
       "  </tbody>\n",
       "</table>\n",
       "</div>"
      ],
      "text/plain": [
       "   author_id                          author\n",
       "0          1                      A.S. Byatt\n",
       "1          2  Aesop/Laura Harris/Laura Gibbs\n",
       "2          3                 Agatha Christie\n",
       "3          4                   Alan Brennert\n",
       "4          5        Alan Moore/David   Lloyd"
      ]
     },
     "execution_count": 6,
     "metadata": {},
     "output_type": "execute_result"
    }
   ],
   "source": [
    "query = '''SELECT * FROM authors LIMIT 5'''\n",
    "con=engine.connect()\n",
    "pd.io.sql.read_sql(sql=text(query), con = con)"
   ]
  },
  {
   "cell_type": "code",
   "execution_count": 7,
   "metadata": {},
   "outputs": [
    {
     "data": {
      "text/html": [
       "<div>\n",
       "<style scoped>\n",
       "    .dataframe tbody tr th:only-of-type {\n",
       "        vertical-align: middle;\n",
       "    }\n",
       "\n",
       "    .dataframe tbody tr th {\n",
       "        vertical-align: top;\n",
       "    }\n",
       "\n",
       "    .dataframe thead th {\n",
       "        text-align: right;\n",
       "    }\n",
       "</style>\n",
       "<table border=\"1\" class=\"dataframe\">\n",
       "  <thead>\n",
       "    <tr style=\"text-align: right;\">\n",
       "      <th></th>\n",
       "      <th>table_name</th>\n",
       "      <th>column_name</th>\n",
       "      <th>data_type</th>\n",
       "      <th>is_nullable</th>\n",
       "    </tr>\n",
       "  </thead>\n",
       "  <tbody>\n",
       "    <tr>\n",
       "      <th>0</th>\n",
       "      <td>books</td>\n",
       "      <td>book_id</td>\n",
       "      <td>integer</td>\n",
       "      <td>NO</td>\n",
       "    </tr>\n",
       "    <tr>\n",
       "      <th>1</th>\n",
       "      <td>ratings</td>\n",
       "      <td>rating</td>\n",
       "      <td>integer</td>\n",
       "      <td>YES</td>\n",
       "    </tr>\n",
       "    <tr>\n",
       "      <th>2</th>\n",
       "      <td>reviews</td>\n",
       "      <td>review_id</td>\n",
       "      <td>integer</td>\n",
       "      <td>NO</td>\n",
       "    </tr>\n",
       "    <tr>\n",
       "      <th>3</th>\n",
       "      <td>reviews</td>\n",
       "      <td>book_id</td>\n",
       "      <td>integer</td>\n",
       "      <td>YES</td>\n",
       "    </tr>\n",
       "    <tr>\n",
       "      <th>4</th>\n",
       "      <td>books</td>\n",
       "      <td>num_pages</td>\n",
       "      <td>integer</td>\n",
       "      <td>YES</td>\n",
       "    </tr>\n",
       "    <tr>\n",
       "      <th>5</th>\n",
       "      <td>authors</td>\n",
       "      <td>author_id</td>\n",
       "      <td>integer</td>\n",
       "      <td>NO</td>\n",
       "    </tr>\n",
       "    <tr>\n",
       "      <th>6</th>\n",
       "      <td>books</td>\n",
       "      <td>publication_date</td>\n",
       "      <td>date</td>\n",
       "      <td>YES</td>\n",
       "    </tr>\n",
       "    <tr>\n",
       "      <th>7</th>\n",
       "      <td>books</td>\n",
       "      <td>publisher_id</td>\n",
       "      <td>integer</td>\n",
       "      <td>YES</td>\n",
       "    </tr>\n",
       "    <tr>\n",
       "      <th>8</th>\n",
       "      <td>publishers</td>\n",
       "      <td>publisher_id</td>\n",
       "      <td>integer</td>\n",
       "      <td>NO</td>\n",
       "    </tr>\n",
       "    <tr>\n",
       "      <th>9</th>\n",
       "      <td>books</td>\n",
       "      <td>author_id</td>\n",
       "      <td>integer</td>\n",
       "      <td>YES</td>\n",
       "    </tr>\n",
       "    <tr>\n",
       "      <th>10</th>\n",
       "      <td>ratings</td>\n",
       "      <td>rating_id</td>\n",
       "      <td>integer</td>\n",
       "      <td>NO</td>\n",
       "    </tr>\n",
       "    <tr>\n",
       "      <th>11</th>\n",
       "      <td>ratings</td>\n",
       "      <td>book_id</td>\n",
       "      <td>integer</td>\n",
       "      <td>YES</td>\n",
       "    </tr>\n",
       "    <tr>\n",
       "      <th>12</th>\n",
       "      <td>reviews</td>\n",
       "      <td>text</td>\n",
       "      <td>text</td>\n",
       "      <td>YES</td>\n",
       "    </tr>\n",
       "    <tr>\n",
       "      <th>13</th>\n",
       "      <td>authors</td>\n",
       "      <td>author</td>\n",
       "      <td>text</td>\n",
       "      <td>YES</td>\n",
       "    </tr>\n",
       "    <tr>\n",
       "      <th>14</th>\n",
       "      <td>books</td>\n",
       "      <td>title</td>\n",
       "      <td>text</td>\n",
       "      <td>YES</td>\n",
       "    </tr>\n",
       "    <tr>\n",
       "      <th>15</th>\n",
       "      <td>publishers</td>\n",
       "      <td>publisher</td>\n",
       "      <td>text</td>\n",
       "      <td>YES</td>\n",
       "    </tr>\n",
       "    <tr>\n",
       "      <th>16</th>\n",
       "      <td>ratings</td>\n",
       "      <td>username</td>\n",
       "      <td>text</td>\n",
       "      <td>YES</td>\n",
       "    </tr>\n",
       "    <tr>\n",
       "      <th>17</th>\n",
       "      <td>reviews</td>\n",
       "      <td>username</td>\n",
       "      <td>text</td>\n",
       "      <td>YES</td>\n",
       "    </tr>\n",
       "  </tbody>\n",
       "</table>\n",
       "</div>"
      ],
      "text/plain": [
       "    table_name       column_name data_type is_nullable\n",
       "0        books           book_id   integer          NO\n",
       "1      ratings            rating   integer         YES\n",
       "2      reviews         review_id   integer          NO\n",
       "3      reviews           book_id   integer         YES\n",
       "4        books         num_pages   integer         YES\n",
       "5      authors         author_id   integer          NO\n",
       "6        books  publication_date      date         YES\n",
       "7        books      publisher_id   integer         YES\n",
       "8   publishers      publisher_id   integer          NO\n",
       "9        books         author_id   integer         YES\n",
       "10     ratings         rating_id   integer          NO\n",
       "11     ratings           book_id   integer         YES\n",
       "12     reviews              text      text         YES\n",
       "13     authors            author      text         YES\n",
       "14       books             title      text         YES\n",
       "15  publishers         publisher      text         YES\n",
       "16     ratings          username      text         YES\n",
       "17     reviews          username      text         YES"
      ]
     },
     "metadata": {},
     "output_type": "display_data"
    }
   ],
   "source": [
    "# проверяем типы столбцов в интересующих таблицах\n",
    "display(pd.io.sql.read_sql('''\n",
    "SELECT \n",
    "    table_name, \n",
    "    column_name, \n",
    "    data_type, \n",
    "    is_nullable\n",
    "FROM INFORMATION_SCHEMA.COLUMNS \n",
    "WHERE table_name IN ('books', 'authors', 'publishers', 'ratings', 'reviews');\n",
    "''', con = engine))"
   ]
  },
  {
   "cell_type": "markdown",
   "metadata": {},
   "source": [
    "<a id=\"раздел1\"></a>"
   ]
  },
  {
   "cell_type": "markdown",
   "metadata": {},
   "source": [
    "# Задачи\n",
    "**Задание 1: Посчитать количество книг, вышедших с 1 января 2000 года**"
   ]
  },
  {
   "cell_type": "code",
   "execution_count": 8,
   "metadata": {},
   "outputs": [
    {
     "data": {
      "text/html": [
       "<div>\n",
       "<style scoped>\n",
       "    .dataframe tbody tr th:only-of-type {\n",
       "        vertical-align: middle;\n",
       "    }\n",
       "\n",
       "    .dataframe tbody tr th {\n",
       "        vertical-align: top;\n",
       "    }\n",
       "\n",
       "    .dataframe thead th {\n",
       "        text-align: right;\n",
       "    }\n",
       "</style>\n",
       "<table border=\"1\" class=\"dataframe\">\n",
       "  <thead>\n",
       "    <tr style=\"text-align: right;\">\n",
       "      <th></th>\n",
       "      <th>count</th>\n",
       "    </tr>\n",
       "  </thead>\n",
       "  <tbody>\n",
       "    <tr>\n",
       "      <th>0</th>\n",
       "      <td>821</td>\n",
       "    </tr>\n",
       "  </tbody>\n",
       "</table>\n",
       "</div>"
      ],
      "text/plain": [
       "   count\n",
       "0    821"
      ]
     },
     "metadata": {},
     "output_type": "display_data"
    }
   ],
   "source": [
    "cnt_books = '''SELECT COUNT(book_id) \n",
    "FROM books \n",
    "WHERE publication_date::date >= '2000-01-01' '''\n",
    "con=engine.connect()\n",
    "cnt_books = pd.io.sql.read_sql(sql=text(cnt_books), con = con)\n",
    "display(cnt_books)"
   ]
  },
  {
   "cell_type": "markdown",
   "metadata": {},
   "source": [
    "Количество книг, вышедших с 1 января 2000 года, составляет 821."
   ]
  },
  {
   "cell_type": "markdown",
   "metadata": {},
   "source": [
    "<a id=\"раздел2\"></a>"
   ]
  },
  {
   "cell_type": "markdown",
   "metadata": {},
   "source": [
    "**Задание 2: Для каждой книги посчитать количество обзоров и среднюю оценку**"
   ]
  },
  {
   "cell_type": "code",
   "execution_count": 9,
   "metadata": {},
   "outputs": [
    {
     "data": {
      "text/html": [
       "<div>\n",
       "<style scoped>\n",
       "    .dataframe tbody tr th:only-of-type {\n",
       "        vertical-align: middle;\n",
       "    }\n",
       "\n",
       "    .dataframe tbody tr th {\n",
       "        vertical-align: top;\n",
       "    }\n",
       "\n",
       "    .dataframe thead th {\n",
       "        text-align: right;\n",
       "    }\n",
       "</style>\n",
       "<table border=\"1\" class=\"dataframe\">\n",
       "  <thead>\n",
       "    <tr style=\"text-align: right;\">\n",
       "      <th></th>\n",
       "      <th>title</th>\n",
       "      <th>cnt_re</th>\n",
       "      <th>avg_ra</th>\n",
       "    </tr>\n",
       "  </thead>\n",
       "  <tbody>\n",
       "    <tr>\n",
       "      <th>0</th>\n",
       "      <td>Twilight (Twilight  #1)</td>\n",
       "      <td>7</td>\n",
       "      <td>3.9</td>\n",
       "    </tr>\n",
       "    <tr>\n",
       "      <th>1</th>\n",
       "      <td>Water for Elephants</td>\n",
       "      <td>6</td>\n",
       "      <td>3.9</td>\n",
       "    </tr>\n",
       "    <tr>\n",
       "      <th>2</th>\n",
       "      <td>The Glass Castle</td>\n",
       "      <td>6</td>\n",
       "      <td>3.9</td>\n",
       "    </tr>\n",
       "    <tr>\n",
       "      <th>3</th>\n",
       "      <td>Harry Potter and the Prisoner of Azkaban (Harr...</td>\n",
       "      <td>6</td>\n",
       "      <td>3.9</td>\n",
       "    </tr>\n",
       "    <tr>\n",
       "      <th>4</th>\n",
       "      <td>The Curious Incident of the Dog in the Night-Time</td>\n",
       "      <td>6</td>\n",
       "      <td>3.9</td>\n",
       "    </tr>\n",
       "    <tr>\n",
       "      <th>...</th>\n",
       "      <td>...</td>\n",
       "      <td>...</td>\n",
       "      <td>...</td>\n",
       "    </tr>\n",
       "    <tr>\n",
       "      <th>995</th>\n",
       "      <td>Anne Rice's The Vampire Lestat: A Graphic Novel</td>\n",
       "      <td>0</td>\n",
       "      <td>0.0</td>\n",
       "    </tr>\n",
       "    <tr>\n",
       "      <th>996</th>\n",
       "      <td>The Natural Way to Draw</td>\n",
       "      <td>0</td>\n",
       "      <td>0.0</td>\n",
       "    </tr>\n",
       "    <tr>\n",
       "      <th>997</th>\n",
       "      <td>The Cat in the Hat and Other Dr. Seuss Favorites</td>\n",
       "      <td>0</td>\n",
       "      <td>0.0</td>\n",
       "    </tr>\n",
       "    <tr>\n",
       "      <th>998</th>\n",
       "      <td>Essential Tales and Poems</td>\n",
       "      <td>0</td>\n",
       "      <td>0.0</td>\n",
       "    </tr>\n",
       "    <tr>\n",
       "      <th>999</th>\n",
       "      <td>Disney's Beauty and the Beast (A Little Golden...</td>\n",
       "      <td>0</td>\n",
       "      <td>0.0</td>\n",
       "    </tr>\n",
       "  </tbody>\n",
       "</table>\n",
       "<p>1000 rows × 3 columns</p>\n",
       "</div>"
      ],
      "text/plain": [
       "                                                 title  cnt_re  avg_ra\n",
       "0                              Twilight (Twilight  #1)       7     3.9\n",
       "1                                  Water for Elephants       6     3.9\n",
       "2                                     The Glass Castle       6     3.9\n",
       "3    Harry Potter and the Prisoner of Azkaban (Harr...       6     3.9\n",
       "4    The Curious Incident of the Dog in the Night-Time       6     3.9\n",
       "..                                                 ...     ...     ...\n",
       "995    Anne Rice's The Vampire Lestat: A Graphic Novel       0     0.0\n",
       "996                            The Natural Way to Draw       0     0.0\n",
       "997   The Cat in the Hat and Other Dr. Seuss Favorites       0     0.0\n",
       "998                          Essential Tales and Poems       0     0.0\n",
       "999  Disney's Beauty and the Beast (A Little Golden...       0     0.0\n",
       "\n",
       "[1000 rows x 3 columns]"
      ]
     },
     "execution_count": 9,
     "metadata": {},
     "output_type": "execute_result"
    }
   ],
   "source": [
    "about_books = '''\n",
    "SELECT title, COUNT(DISTINCT(review_id)) as cnt_re, COALESCE(ROUND(AVG(rating), 1), 0) as avg_ra\n",
    "\n",
    "FROM books as b LEFT JOIN reviews as re on b.book_id = re.book_id LEFT JOIN ratings as ra on b.book_id = re.book_id\n",
    "GROUP BY b.book_id\n",
    "ORDER BY cnt_re DESC, avg_ra\n",
    "'''\n",
    "con=engine.connect()\n",
    "pd.io.sql.read_sql(sql=text(about_books), con = con)"
   ]
  },
  {
   "cell_type": "markdown",
   "metadata": {},
   "source": [
    "Из 1000 книг в базе популярные книги имеют по 6 обзоров и одна 7 оброзов, у некоторых книг не имеются обзоры и средняя оценка"
   ]
  },
  {
   "cell_type": "markdown",
   "metadata": {},
   "source": [
    "<a id=\"раздел3\"></a>"
   ]
  },
  {
   "cell_type": "markdown",
   "metadata": {},
   "source": [
    "**Задание 3: Определить издательство, которое выпустило наибольшее число книг толще 50 страниц — так вы исключим из анализа брошюры**"
   ]
  },
  {
   "cell_type": "code",
   "execution_count": 10,
   "metadata": {},
   "outputs": [
    {
     "data": {
      "text/html": [
       "<div>\n",
       "<style scoped>\n",
       "    .dataframe tbody tr th:only-of-type {\n",
       "        vertical-align: middle;\n",
       "    }\n",
       "\n",
       "    .dataframe tbody tr th {\n",
       "        vertical-align: top;\n",
       "    }\n",
       "\n",
       "    .dataframe thead th {\n",
       "        text-align: right;\n",
       "    }\n",
       "</style>\n",
       "<table border=\"1\" class=\"dataframe\">\n",
       "  <thead>\n",
       "    <tr style=\"text-align: right;\">\n",
       "      <th></th>\n",
       "      <th>publisher</th>\n",
       "      <th>cnt_books</th>\n",
       "    </tr>\n",
       "  </thead>\n",
       "  <tbody>\n",
       "    <tr>\n",
       "      <th>0</th>\n",
       "      <td>Penguin Books</td>\n",
       "      <td>42</td>\n",
       "    </tr>\n",
       "  </tbody>\n",
       "</table>\n",
       "</div>"
      ],
      "text/plain": [
       "       publisher  cnt_books\n",
       "0  Penguin Books         42"
      ]
     },
     "execution_count": 10,
     "metadata": {},
     "output_type": "execute_result"
    }
   ],
   "source": [
    "query = '''SELECT publisher, COUNT(b.book_id) as cnt_books\n",
    "FROM publishers as p INNER JOIN books as b on p.publisher_id = b.publisher_id\n",
    "WHERE b.num_pages > 50\n",
    "GROUP BY p.publisher\n",
    "ORDER BY cnt_books DESC\n",
    "LIMIT 1\n",
    "'''\n",
    "con=engine.connect()\n",
    "pd.io.sql.read_sql(sql=text(query), con = con)"
   ]
  },
  {
   "cell_type": "markdown",
   "metadata": {},
   "source": [
    " Издательством, которое выпустило наибольшее число книг толще 50 страниц, является Penguin Books с 42 книгами"
   ]
  },
  {
   "cell_type": "markdown",
   "metadata": {},
   "source": [
    "<a id=\"раздел4\"></a>"
   ]
  },
  {
   "cell_type": "markdown",
   "metadata": {},
   "source": [
    "**Задание 4: Определите автора с самой высокой средней оценкой книг — учитывайте только книги с 50 и более оценками**"
   ]
  },
  {
   "cell_type": "code",
   "execution_count": 11,
   "metadata": {},
   "outputs": [
    {
     "data": {
      "text/html": [
       "<div>\n",
       "<style scoped>\n",
       "    .dataframe tbody tr th:only-of-type {\n",
       "        vertical-align: middle;\n",
       "    }\n",
       "\n",
       "    .dataframe tbody tr th {\n",
       "        vertical-align: top;\n",
       "    }\n",
       "\n",
       "    .dataframe thead th {\n",
       "        text-align: right;\n",
       "    }\n",
       "</style>\n",
       "<table border=\"1\" class=\"dataframe\">\n",
       "  <thead>\n",
       "    <tr style=\"text-align: right;\">\n",
       "      <th></th>\n",
       "      <th>au</th>\n",
       "      <th>avg_ra</th>\n",
       "      <th>cnt_ra</th>\n",
       "    </tr>\n",
       "  </thead>\n",
       "  <tbody>\n",
       "    <tr>\n",
       "      <th>0</th>\n",
       "      <td>J.K. Rowling/Mary GrandPré</td>\n",
       "      <td>4.287097</td>\n",
       "      <td>310</td>\n",
       "    </tr>\n",
       "  </tbody>\n",
       "</table>\n",
       "</div>"
      ],
      "text/plain": [
       "                           au    avg_ra  cnt_ra\n",
       "0  J.K. Rowling/Mary GrandPré  4.287097     310"
      ]
     },
     "execution_count": 11,
     "metadata": {},
     "output_type": "execute_result"
    }
   ],
   "source": [
    "query = '''SELECT DISTINCT a.author as au, AVG(ra.rating) as avg_ra, COUNT(ra.rating_id) as cnt_ra\n",
    "FROM authors as a INNER JOIN books as b on b.author_id = a.author_id INNER JOIN ratings as ra on ra.book_id = b.book_id\n",
    "WHERE b.book_id in (SELECT book_id FROM ratings GROUP BY book_id HAVING COUNT(rating) > 50)\n",
    "GROUP BY author\n",
    "ORDER BY avg_ra DESC\n",
    "LIMIT 1'''\n",
    "con=engine.connect()\n",
    "pd.io.sql.read_sql(sql=text(query), con = con)"
   ]
  },
  {
   "cell_type": "markdown",
   "metadata": {},
   "source": [
    "Автором с самой высокой средней оценкой книг, у которых 50 и более оценок, является Джоан Роулинг."
   ]
  },
  {
   "cell_type": "markdown",
   "metadata": {},
   "source": [
    "<a id=\"раздел5\"></a>"
   ]
  },
  {
   "cell_type": "markdown",
   "metadata": {},
   "source": [
    "**Задание 5: Посчитайте среднее количество обзоров от пользователей, которые поставили больше 48 оценок.**"
   ]
  },
  {
   "cell_type": "code",
   "execution_count": 12,
   "metadata": {},
   "outputs": [
    {
     "data": {
      "text/html": [
       "<div>\n",
       "<style scoped>\n",
       "    .dataframe tbody tr th:only-of-type {\n",
       "        vertical-align: middle;\n",
       "    }\n",
       "\n",
       "    .dataframe tbody tr th {\n",
       "        vertical-align: top;\n",
       "    }\n",
       "\n",
       "    .dataframe thead th {\n",
       "        text-align: right;\n",
       "    }\n",
       "</style>\n",
       "<table border=\"1\" class=\"dataframe\">\n",
       "  <thead>\n",
       "    <tr style=\"text-align: right;\">\n",
       "      <th></th>\n",
       "      <th>avg_re</th>\n",
       "    </tr>\n",
       "  </thead>\n",
       "  <tbody>\n",
       "    <tr>\n",
       "      <th>0</th>\n",
       "      <td>24.0</td>\n",
       "    </tr>\n",
       "  </tbody>\n",
       "</table>\n",
       "</div>"
      ],
      "text/plain": [
       "   avg_re\n",
       "0    24.0"
      ]
     },
     "execution_count": 12,
     "metadata": {},
     "output_type": "execute_result"
    }
   ],
   "source": [
    "query = '''\n",
    "WITH cnt_ra as \n",
    "(SELECT username FROM ratings GROUP BY username HAVING COUNT(rating_id) > 48)\n",
    "SELECT AVG(cnt_re) as avg_re FROM \n",
    "    (SELECT COUNT(review_id) as cnt_re FROM reviews WHERE username in\n",
    "            (SELECT username FROM cnt_ra)\n",
    "    GROUP BY username) as f1\n",
    "'''\n",
    "con=engine.connect()\n",
    "pd.io.sql.read_sql(sql=text(query), con = con)"
   ]
  },
  {
   "cell_type": "markdown",
   "metadata": {},
   "source": [
    "Среднее количество обзоров от пользователей, которые поставили больше 48 оценок, составялет 24%."
   ]
  },
  {
   "cell_type": "markdown",
   "metadata": {},
   "source": [
    "# Выводы по решенным задачам:\n",
    "\n",
    "Количество книг, вышедших после 1 января 2000 года, составляет 819.  \n",
    "Из 1000 книг в базе популярные книги имеют по 6 обзоров и одна 7 оброзов, у некоторых книг не имеются обзоры и средняя оценка. Издательством, которое выпустило наибольшее число книг толще 50 страниц, является Penguin Books с 42 книгами.  Среднее количество обзоров от пользователей, которые поставили больше 48 оценок, составялет 24%.\n",
    "В отношении книг, у которых мало или вовсе нет обзоров и отсутствует средняя оценка, можем порекомендовать мотивировать пользователей на проведение обзоров и оценивание книг (бонусные баллы, демо-версии книг бесплатно и т.д.). Также можно провести работу с издательствами, которые выпустили мало книг."
   ]
  }
 ],
 "metadata": {
  "ExecuteTimeLog": [
   {
    "duration": 190,
    "start_time": "2023-08-27T15:33:50.681Z"
   },
   {
    "duration": 21569,
    "start_time": "2023-08-27T15:34:48.279Z"
   },
   {
    "duration": 123,
    "start_time": "2023-08-27T16:28:59.025Z"
   },
   {
    "duration": 139,
    "start_time": "2023-08-27T16:29:04.910Z"
   },
   {
    "duration": 33,
    "start_time": "2023-08-27T16:29:39.737Z"
   },
   {
    "duration": 43,
    "start_time": "2023-08-27T16:30:14.030Z"
   },
   {
    "duration": 13,
    "start_time": "2023-08-27T16:31:43.824Z"
   },
   {
    "duration": 11,
    "start_time": "2023-08-27T16:34:05.840Z"
   },
   {
    "duration": 10,
    "start_time": "2023-08-27T16:34:17.541Z"
   },
   {
    "duration": 10,
    "start_time": "2023-08-27T16:34:48.340Z"
   },
   {
    "duration": 33,
    "start_time": "2023-08-27T16:35:38.588Z"
   },
   {
    "duration": 48,
    "start_time": "2023-08-27T16:43:19.285Z"
   },
   {
    "duration": 48,
    "start_time": "2023-08-27T16:46:10.182Z"
   },
   {
    "duration": 58,
    "start_time": "2023-08-27T16:48:58.078Z"
   },
   {
    "duration": 49,
    "start_time": "2023-08-27T17:02:05.184Z"
   },
   {
    "duration": 2488,
    "start_time": "2023-08-27T17:02:33.460Z"
   },
   {
    "duration": 2380,
    "start_time": "2023-08-27T17:03:53.048Z"
   },
   {
    "duration": 2816,
    "start_time": "2023-08-27T17:04:15.813Z"
   },
   {
    "duration": 2534,
    "start_time": "2023-08-27T17:08:14.019Z"
   },
   {
    "duration": 2614,
    "start_time": "2023-08-27T17:11:59.628Z"
   },
   {
    "duration": 2647,
    "start_time": "2023-08-27T17:14:32.673Z"
   },
   {
    "duration": 2587,
    "start_time": "2023-08-27T17:14:47.628Z"
   },
   {
    "duration": 2724,
    "start_time": "2023-08-27T17:15:03.541Z"
   },
   {
    "duration": 2726,
    "start_time": "2023-08-27T17:15:13.746Z"
   },
   {
    "duration": 30,
    "start_time": "2023-08-27T17:18:46.083Z"
   },
   {
    "duration": 31,
    "start_time": "2023-08-27T17:23:26.942Z"
   },
   {
    "duration": 25,
    "start_time": "2023-08-27T17:25:43.036Z"
   },
   {
    "duration": 23,
    "start_time": "2023-08-27T17:27:00.809Z"
   },
   {
    "duration": 42,
    "start_time": "2023-08-27T17:29:54.597Z"
   },
   {
    "duration": 50,
    "start_time": "2023-08-27T17:31:26.997Z"
   },
   {
    "duration": 67,
    "start_time": "2023-08-27T17:35:43.176Z"
   },
   {
    "duration": 68,
    "start_time": "2023-08-27T17:35:52.553Z"
   },
   {
    "duration": 22,
    "start_time": "2023-08-27T17:37:03.726Z"
   },
   {
    "duration": 21076,
    "start_time": "2023-08-27T17:37:28.935Z"
   },
   {
    "duration": 62,
    "start_time": "2023-08-27T17:37:50.013Z"
   },
   {
    "duration": 35,
    "start_time": "2023-08-27T17:37:50.079Z"
   },
   {
    "duration": 13,
    "start_time": "2023-08-27T17:37:50.116Z"
   },
   {
    "duration": 12,
    "start_time": "2023-08-27T17:37:50.132Z"
   },
   {
    "duration": 2677,
    "start_time": "2023-08-27T17:37:50.145Z"
   },
   {
    "duration": 118,
    "start_time": "2023-08-27T17:37:52.824Z"
   },
   {
    "duration": 0,
    "start_time": "2023-08-27T17:37:52.944Z"
   },
   {
    "duration": 0,
    "start_time": "2023-08-27T17:37:52.946Z"
   },
   {
    "duration": 23,
    "start_time": "2023-08-27T17:44:32.421Z"
   },
   {
    "duration": 42,
    "start_time": "2023-08-27T17:44:47.276Z"
   },
   {
    "duration": 73,
    "start_time": "2023-08-27T17:47:37.713Z"
   },
   {
    "duration": 15,
    "start_time": "2023-08-27T17:55:49.413Z"
   },
   {
    "duration": 16,
    "start_time": "2023-08-27T17:58:12.096Z"
   },
   {
    "duration": 11,
    "start_time": "2023-08-27T17:58:46.190Z"
   },
   {
    "duration": 37,
    "start_time": "2023-08-27T17:58:48.150Z"
   },
   {
    "duration": 12,
    "start_time": "2023-08-27T17:59:16.614Z"
   },
   {
    "duration": 13,
    "start_time": "2023-08-27T18:02:22.890Z"
   },
   {
    "duration": 21,
    "start_time": "2023-08-27T18:05:55.779Z"
   },
   {
    "duration": 23,
    "start_time": "2023-08-27T18:14:41.835Z"
   },
   {
    "duration": 15,
    "start_time": "2023-08-27T18:15:43.100Z"
   },
   {
    "duration": 21,
    "start_time": "2023-08-27T18:15:52.682Z"
   },
   {
    "duration": 39,
    "start_time": "2023-08-27T18:42:56.271Z"
   },
   {
    "duration": 22,
    "start_time": "2023-08-27T18:43:34.807Z"
   },
   {
    "duration": 22,
    "start_time": "2023-08-27T18:44:56.517Z"
   },
   {
    "duration": 100,
    "start_time": "2023-08-27T18:45:52.623Z"
   },
   {
    "duration": 20,
    "start_time": "2023-08-27T18:48:59.909Z"
   },
   {
    "duration": 50,
    "start_time": "2023-08-27T18:49:04.054Z"
   },
   {
    "duration": 75,
    "start_time": "2023-08-27T18:49:25.754Z"
   },
   {
    "duration": 79,
    "start_time": "2023-08-27T18:50:41.923Z"
   },
   {
    "duration": 54,
    "start_time": "2023-08-27T18:51:52.520Z"
   },
   {
    "duration": 28,
    "start_time": "2023-08-27T19:10:24.743Z"
   },
   {
    "duration": 23,
    "start_time": "2023-08-27T19:16:05.994Z"
   },
   {
    "duration": 33,
    "start_time": "2023-08-27T19:17:53.477Z"
   },
   {
    "duration": 50,
    "start_time": "2023-08-27T19:18:33.782Z"
   },
   {
    "duration": 87,
    "start_time": "2023-08-27T19:25:31.735Z"
   },
   {
    "duration": 39,
    "start_time": "2023-08-27T19:38:37.002Z"
   },
   {
    "duration": 20,
    "start_time": "2023-08-27T19:39:30.740Z"
   },
   {
    "duration": 15266,
    "start_time": "2023-08-27T19:58:50.384Z"
   },
   {
    "duration": 61,
    "start_time": "2023-08-27T19:59:05.652Z"
   },
   {
    "duration": 12,
    "start_time": "2023-08-27T19:59:05.714Z"
   },
   {
    "duration": 14,
    "start_time": "2023-08-27T19:59:05.727Z"
   },
   {
    "duration": 48,
    "start_time": "2023-08-27T19:59:05.743Z"
   },
   {
    "duration": 12,
    "start_time": "2023-08-27T19:59:05.793Z"
   },
   {
    "duration": 11,
    "start_time": "2023-08-27T19:59:05.806Z"
   },
   {
    "duration": 2528,
    "start_time": "2023-08-27T19:59:05.818Z"
   },
   {
    "duration": 30,
    "start_time": "2023-08-27T19:59:08.347Z"
   },
   {
    "duration": 21,
    "start_time": "2023-08-27T19:59:08.386Z"
   },
   {
    "duration": 14,
    "start_time": "2023-08-27T19:59:08.409Z"
   },
   {
    "duration": 18690,
    "start_time": "2023-08-28T10:40:03.711Z"
   },
   {
    "duration": 174,
    "start_time": "2023-08-28T10:40:22.403Z"
   },
   {
    "duration": 57,
    "start_time": "2023-08-28T10:40:22.579Z"
   },
   {
    "duration": 77,
    "start_time": "2023-08-28T10:40:22.637Z"
   },
   {
    "duration": 68,
    "start_time": "2023-08-28T10:40:22.716Z"
   },
   {
    "duration": 55,
    "start_time": "2023-08-28T10:40:22.786Z"
   },
   {
    "duration": 188,
    "start_time": "2023-08-28T10:40:22.843Z"
   },
   {
    "duration": 71,
    "start_time": "2023-08-28T10:40:23.033Z"
   },
   {
    "duration": 2701,
    "start_time": "2023-08-28T10:40:23.106Z"
   },
   {
    "duration": 68,
    "start_time": "2023-08-28T10:40:25.809Z"
   },
   {
    "duration": 61,
    "start_time": "2023-08-28T10:40:25.878Z"
   },
   {
    "duration": 85,
    "start_time": "2023-08-28T10:40:25.941Z"
   },
   {
    "duration": 63,
    "start_time": "2023-08-28T10:51:02.066Z"
   },
   {
    "duration": 23206,
    "start_time": "2023-08-28T10:52:43.743Z"
   },
   {
    "duration": 164,
    "start_time": "2023-08-28T10:53:06.951Z"
   },
   {
    "duration": 58,
    "start_time": "2023-08-28T10:53:07.117Z"
   },
   {
    "duration": 57,
    "start_time": "2023-08-28T10:53:07.176Z"
   },
   {
    "duration": 53,
    "start_time": "2023-08-28T10:53:07.236Z"
   },
   {
    "duration": 54,
    "start_time": "2023-08-28T10:53:07.291Z"
   },
   {
    "duration": 162,
    "start_time": "2023-08-28T10:53:07.346Z"
   },
   {
    "duration": 52,
    "start_time": "2023-08-28T10:53:07.510Z"
   },
   {
    "duration": 2634,
    "start_time": "2023-08-28T10:53:07.564Z"
   },
   {
    "duration": 53,
    "start_time": "2023-08-28T10:53:10.200Z"
   },
   {
    "duration": 57,
    "start_time": "2023-08-28T10:53:10.255Z"
   },
   {
    "duration": 141,
    "start_time": "2023-08-28T10:53:10.314Z"
   },
   {
    "duration": 0,
    "start_time": "2023-08-28T10:53:10.456Z"
   },
   {
    "duration": 60,
    "start_time": "2023-08-28T10:55:58.340Z"
   },
   {
    "duration": 135,
    "start_time": "2023-08-28T11:00:03.770Z"
   },
   {
    "duration": 142,
    "start_time": "2023-08-28T11:00:56.837Z"
   },
   {
    "duration": 139,
    "start_time": "2023-08-28T11:03:01.883Z"
   },
   {
    "duration": 125,
    "start_time": "2023-08-28T11:05:21.935Z"
   },
   {
    "duration": 154,
    "start_time": "2023-08-28T11:17:38.007Z"
   },
   {
    "duration": 63,
    "start_time": "2023-08-28T11:20:15.396Z"
   },
   {
    "duration": 61,
    "start_time": "2023-08-28T11:21:13.951Z"
   },
   {
    "duration": 49,
    "start_time": "2023-08-28T11:22:08.975Z"
   },
   {
    "duration": 72,
    "start_time": "2023-08-28T11:25:06.574Z"
   },
   {
    "duration": 60,
    "start_time": "2023-08-28T11:25:45.391Z"
   },
   {
    "duration": 73,
    "start_time": "2023-08-28T11:27:31.614Z"
   },
   {
    "duration": 64,
    "start_time": "2023-08-28T11:28:31.308Z"
   },
   {
    "duration": 62,
    "start_time": "2023-08-28T11:32:12.628Z"
   },
   {
    "duration": 61,
    "start_time": "2023-08-28T11:46:51.276Z"
   },
   {
    "duration": 13257,
    "start_time": "2023-08-28T11:47:02.404Z"
   },
   {
    "duration": 155,
    "start_time": "2023-08-28T11:47:15.663Z"
   },
   {
    "duration": 58,
    "start_time": "2023-08-28T11:47:15.821Z"
   },
   {
    "duration": 54,
    "start_time": "2023-08-28T11:47:15.882Z"
   },
   {
    "duration": 53,
    "start_time": "2023-08-28T11:47:15.937Z"
   },
   {
    "duration": 52,
    "start_time": "2023-08-28T11:47:15.991Z"
   },
   {
    "duration": 162,
    "start_time": "2023-08-28T11:47:16.045Z"
   },
   {
    "duration": 54,
    "start_time": "2023-08-28T11:47:16.209Z"
   },
   {
    "duration": 2699,
    "start_time": "2023-08-28T11:47:16.264Z"
   },
   {
    "duration": 59,
    "start_time": "2023-08-28T11:47:18.966Z"
   },
   {
    "duration": 60,
    "start_time": "2023-08-28T11:47:19.028Z"
   },
   {
    "duration": 181,
    "start_time": "2023-08-28T11:47:19.090Z"
   },
   {
    "duration": 0,
    "start_time": "2023-08-28T11:47:19.274Z"
   },
   {
    "duration": 142,
    "start_time": "2023-08-28T11:59:08.496Z"
   },
   {
    "duration": 61,
    "start_time": "2023-08-28T11:59:58.497Z"
   },
   {
    "duration": 61,
    "start_time": "2023-08-28T12:23:05.406Z"
   },
   {
    "duration": 62,
    "start_time": "2023-08-28T12:24:27.994Z"
   },
   {
    "duration": 61,
    "start_time": "2023-08-28T12:24:34.545Z"
   },
   {
    "duration": 133,
    "start_time": "2023-08-28T12:25:18.379Z"
   },
   {
    "duration": 149,
    "start_time": "2023-08-28T12:25:43.702Z"
   },
   {
    "duration": 19078,
    "start_time": "2023-08-28T12:26:21.981Z"
   },
   {
    "duration": 128,
    "start_time": "2023-08-28T12:26:41.061Z"
   },
   {
    "duration": 53,
    "start_time": "2023-08-28T12:26:41.191Z"
   },
   {
    "duration": 53,
    "start_time": "2023-08-28T12:26:41.246Z"
   },
   {
    "duration": 52,
    "start_time": "2023-08-28T12:26:41.302Z"
   },
   {
    "duration": 53,
    "start_time": "2023-08-28T12:26:41.356Z"
   },
   {
    "duration": 162,
    "start_time": "2023-08-28T12:26:41.411Z"
   },
   {
    "duration": 53,
    "start_time": "2023-08-28T12:26:41.574Z"
   },
   {
    "duration": 2621,
    "start_time": "2023-08-28T12:26:41.629Z"
   },
   {
    "duration": 53,
    "start_time": "2023-08-28T12:26:44.252Z"
   },
   {
    "duration": 56,
    "start_time": "2023-08-28T12:26:44.307Z"
   },
   {
    "duration": 57,
    "start_time": "2023-08-28T12:26:44.365Z"
   },
   {
    "duration": 55,
    "start_time": "2023-08-28T12:26:44.424Z"
   },
   {
    "duration": 137,
    "start_time": "2023-08-28T12:30:04.739Z"
   }
  ],
  "kernelspec": {
   "display_name": "Python 3",
   "language": "python",
   "name": "python3"
  },
  "language_info": {
   "codemirror_mode": {
    "name": "ipython",
    "version": 3
   },
   "file_extension": ".py",
   "mimetype": "text/x-python",
   "name": "python",
   "nbconvert_exporter": "python",
   "pygments_lexer": "ipython3",
   "version": "3.7.4"
  },
  "toc": {
   "base_numbering": 1,
   "nav_menu": {},
   "number_sections": true,
   "sideBar": true,
   "skip_h1_title": true,
   "title_cell": "Table of Contents",
   "title_sidebar": "Contents",
   "toc_cell": false,
   "toc_position": {},
   "toc_section_display": true,
   "toc_window_display": false
  }
 },
 "nbformat": 4,
 "nbformat_minor": 2
}
